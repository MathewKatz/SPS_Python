{
 "cells": [
  {
   "cell_type": "markdown",
   "metadata": {},
   "source": [
    "Mathew Katz HW3"
   ]
  },
  {
   "cell_type": "code",
   "execution_count": 185,
   "metadata": {},
   "outputs": [],
   "source": [
    "import numpy as np\n",
    "import pandas as pd\n",
    "import matplotlib as plt\n",
    "import statistics \n",
    "import math\n",
    "from scipy.stats import norm, binom as b, t"
   ]
  },
  {
   "cell_type": "markdown",
   "metadata": {},
   "source": [
    "1) The weights of steers in a herd are distributed normally. The variance is 40,000 and the mean steer weight is 1300 lbs. Find the probability that the weight of a randomly selected steer is greater than 979 lbs. (Round your answer to 4 decimal places)"
   ]
  },
  {
   "cell_type": "code",
   "execution_count": 159,
   "metadata": {},
   "outputs": [
    {
     "data": {
      "text/plain": [
       "0.9458"
      ]
     },
     "execution_count": 159,
     "metadata": {},
     "output_type": "execute_result"
    }
   ],
   "source": [
    "x = 979\n",
    "u = 1300\n",
    "o = math.sqrt(40000)\n",
    "round(1 - norm.cdf(x,loc = u ,scale = o), 4)"
   ]
  },
  {
   "cell_type": "markdown",
   "metadata": {},
   "source": [
    "2)2. \tSVGA monitors manufactured by TSI Electronics have life spans that have a normal distribution with a variance of 1,960,000 and a mean life span of 11,000 hours.  If a SVGA monitor is selected at random, find the probability that the life span of the monitor will be more than 8340 hours. (Round your answer to 4 decimal places)"
   ]
  },
  {
   "cell_type": "code",
   "execution_count": 160,
   "metadata": {},
   "outputs": [
    {
     "data": {
      "text/plain": [
       "0.9713"
      ]
     },
     "execution_count": 160,
     "metadata": {},
     "output_type": "execute_result"
    }
   ],
   "source": [
    "x = 8340\n",
    "u = 11000\n",
    "o = math.sqrt(1960000)\n",
    "round(1 - norm.cdf(x,loc = u ,scale = o), 4)"
   ]
  },
  {
   "cell_type": "markdown",
   "metadata": {},
   "source": [
    "3) Suppose the mean income of firms in the industry for a year is 80 million dollars with a standard deviation of 3 million dollars.  If incomes for the industry are distributed normally, what is the probability that a randomly selected firm will earn between 83 and 85 million dollars? (Round your answer to 4 decimal places)"
   ]
  },
  {
   "cell_type": "code",
   "execution_count": 161,
   "metadata": {},
   "outputs": [
    {
     "data": {
      "text/plain": [
       "0.1109"
      ]
     },
     "execution_count": 161,
     "metadata": {},
     "output_type": "execute_result"
    }
   ],
   "source": [
    "round((norm.cdf(85,loc = 80 ,scale = 3)) - (norm.cdf(83,loc = 80 ,scale = 3)), 4)"
   ]
  },
  {
   "cell_type": "markdown",
   "metadata": {},
   "source": [
    "4) Suppose GRE Verbal scores are normally distributed with a mean of 456 and a standard deviation of 123.  A university plans to offer tutoring jobs to students whose scores are in the top 14%.  What is the minimum score required for the job offer?  Round your answer to the nearest whole number, if necessary."
   ]
  },
  {
   "cell_type": "code",
   "execution_count": 162,
   "metadata": {},
   "outputs": [
    {
     "data": {
      "text/plain": [
       "589"
      ]
     },
     "execution_count": 162,
     "metadata": {},
     "output_type": "execute_result"
    }
   ],
   "source": [
    "round(norm.ppf(.86,456,123))"
   ]
  },
  {
   "cell_type": "markdown",
   "metadata": {},
   "source": [
    "5)The lengths of nails produced in a factory are normally distributed with a mean of 6.13 centimeters and a standard deviation of 0.06 centimeters.  Find the two lengths that separate the top 7% and the bottom 7%.  These lengths could serve as limits used to identify which nails should be rejected.  Round your answer to the nearest hundredth, if necessary."
   ]
  },
  {
   "cell_type": "code",
   "execution_count": 163,
   "metadata": {},
   "outputs": [
    {
     "name": "stdout",
     "output_type": "stream",
     "text": [
      "The top seven percent is 6.218547461690751\n"
     ]
    }
   ],
   "source": [
    "top = (norm.ppf(0.93,6.13,0.06))\n",
    "print(f\"The top seven percent is {top}\")"
   ]
  },
  {
   "cell_type": "code",
   "execution_count": 164,
   "metadata": {},
   "outputs": [
    {
     "name": "stdout",
     "output_type": "stream",
     "text": [
      "The bottom seven percent is 6.041452538309249\n"
     ]
    }
   ],
   "source": [
    "bot = (norm.ppf(0.07,6.13,0.06))\n",
    "print(f\"The bottom seven percent is {bot}\")"
   ]
  },
  {
   "cell_type": "markdown",
   "metadata": {},
   "source": [
    "6) An English professor assigns letter grades on a test according to the following scheme.\n",
    "\tA:  Top 13% of scores\n",
    "\tB:  Scores below the top 13% and above the bottom 55%\n",
    "\tC:  Scores below the top 45% and above the bottom 20%\n",
    "\tD:  Scores below the top 80% and above the bottom 9%\n",
    "\tF:  Bottom 9% of scores\n",
    "\tScores on the test are normally distributed with a mean of 78.8 and a standard deviation of 9.8.  Find the numerical limits for a C grade.  Round your answers to the nearest whole number, if necessary.\n"
   ]
  },
  {
   "cell_type": "code",
   "execution_count": 165,
   "metadata": {},
   "outputs": [],
   "source": [
    "x = round(norm.ppf(0.20, 78.18, 9.8))\n",
    "y = round(norm.ppf(.55,78.8,9.8))"
   ]
  },
  {
   "cell_type": "code",
   "execution_count": 166,
   "metadata": {},
   "outputs": [
    {
     "name": "stdout",
     "output_type": "stream",
     "text": [
      "The grade is considered a 'C' between the numbers 70 and 80.\n"
     ]
    }
   ],
   "source": [
    "print(f\"The grade is considered a 'C' between the numbers {x} and {y}.\")"
   ]
  },
  {
   "cell_type": "markdown",
   "metadata": {},
   "source": [
    "7) Suppose ACT Composite scores are normally distributed with a mean of 21.2 and a standard deviation of 5.4.  A university plans to admit students whose scores are in the top 45%.  What is the minimum score required for admission?  Round your answer to the nearest tenth, if necessary."
   ]
  },
  {
   "cell_type": "code",
   "execution_count": 167,
   "metadata": {},
   "outputs": [
    {
     "data": {
      "text/plain": [
       "21.9"
      ]
     },
     "execution_count": 167,
     "metadata": {},
     "output_type": "execute_result"
    }
   ],
   "source": [
    "round(norm.ppf(0.55, 21.2, 5.4),1)"
   ]
  },
  {
   "cell_type": "markdown",
   "metadata": {},
   "source": [
    "8) Consider the probability that less than 11 out of 151 students will not graduate on time.  Assume the probability that a given student will not graduate on time is 9%.  Approximate the probability using the normal distribution. (Round your answer to 4 decimal places.)"
   ]
  },
  {
   "cell_type": "code",
   "execution_count": 168,
   "metadata": {},
   "outputs": [
    {
     "data": {
      "text/plain": [
       "0.23071499361777043"
      ]
     },
     "execution_count": 168,
     "metadata": {},
     "output_type": "execute_result"
    }
   ],
   "source": [
    "a = 151\n",
    "b = .09\n",
    "c = 1 - b\n",
    "mean = a * b\n",
    "stdev = math.sqrt(a * b * c)\n",
    "norm.cdf(11, loc=mean, scale=stdev) "
   ]
  },
  {
   "cell_type": "markdown",
   "metadata": {},
   "source": [
    "9) The mean lifetime of a tire is 48 months with a standard deviation of 7.  If 147 tires are sampled, what is the probability that the mean of the sample would be greater than 48.83 months? (Round your answer to 4 decimal places) "
   ]
  },
  {
   "cell_type": "code",
   "execution_count": 169,
   "metadata": {},
   "outputs": [
    {
     "data": {
      "text/plain": [
       "0.0753"
      ]
     },
     "execution_count": 169,
     "metadata": {},
     "output_type": "execute_result"
    }
   ],
   "source": [
    "round(1 - norm.cdf(48.83, loc=48, scale=7/math.sqrt(147)),4)"
   ]
  },
  {
   "cell_type": "markdown",
   "metadata": {},
   "source": [
    "10) The quality control manager at a computer manufacturing company believes that the mean life of a computer is 91 months, with a standard deviation of 10.  If he is correct, what is the probability that the mean of a sample of 68 computers would be greater than 93.54 months? (Round your answer to 4 decimal places)"
   ]
  },
  {
   "cell_type": "code",
   "execution_count": 170,
   "metadata": {},
   "outputs": [
    {
     "data": {
      "text/plain": [
       "0.0181"
      ]
     },
     "execution_count": 170,
     "metadata": {},
     "output_type": "execute_result"
    }
   ],
   "source": [
    "round(1 - norm.cdf(93.54, loc=91, scale=10/math.sqrt(68)), 4)"
   ]
  },
  {
   "cell_type": "markdown",
   "metadata": {},
   "source": [
    "11) A director of reservations believes that 7% of the ticketed passengers are no-shows.  If the director is right, what is the probability that the proportion of no-shows in a sample of 540 ticketed passengers would differ from the population proportion by less than 3%? (Round your answer to 4 decimal places)"
   ]
  },
  {
   "cell_type": "code",
   "execution_count": 171,
   "metadata": {},
   "outputs": [
    {
     "data": {
      "text/plain": [
       "0.9969"
      ]
     },
     "execution_count": 171,
     "metadata": {},
     "output_type": "execute_result"
    }
   ],
   "source": [
    "a = 540\n",
    "b = .07\n",
    "c = 1 - b\n",
    "mean = a * b\n",
    "d = a * (b - .03)\n",
    "stdev = math.sqrt(a * b * c)\n",
    "round(1 - norm.cdf(d, loc=mean, scale=stdev), 4)"
   ]
  },
  {
   "cell_type": "markdown",
   "metadata": {},
   "source": [
    "12) A bottle maker believes that 23% of his bottles are defective.  If the bottle maker is accurate, what is the probability that the proportion of defective bottles in a sample of 602 bottles would differ from the population proportion by greater than 4%? (Round your answer to 4 decimal places)"
   ]
  },
  {
   "cell_type": "code",
   "execution_count": 172,
   "metadata": {},
   "outputs": [
    {
     "data": {
      "text/plain": [
       "0.0098"
      ]
     },
     "execution_count": 172,
     "metadata": {},
     "output_type": "execute_result"
    }
   ],
   "source": [
    "a = 602\n",
    "b = .23\n",
    "c = 1-b\n",
    "mean = a * b\n",
    "d = a * (b + .04)\n",
    "stdev = math.sqrt(a * b * c)\n",
    "round(1 - norm.cdf(d, loc=mean, scale=stdev), 4)"
   ]
  },
  {
   "cell_type": "markdown",
   "metadata": {},
   "source": [
    "13) A research company desires to know the mean consumption of beef per week among males over age 48. Suppose a sample of size 208 is drawn with xbar = 3.9. Assume r = 0.8. Construct the 80% confidence interval for the mean number of lb. of beef per week among males over 48. (Round your answers to 1 decimal place)\n",
    "Lower Bound:\n",
    "Upper Bound:\n"
   ]
  },
  {
   "cell_type": "code",
   "execution_count": 173,
   "metadata": {},
   "outputs": [
    {
     "name": "stdout",
     "output_type": "stream",
     "text": [
      "The 80% confidence interval for the mean number of lb. of beef per week among males over 48 is between 2.9 and 4.9.\n"
     ]
    }
   ],
   "source": [
    "n = 208\n",
    "mean = 3.9\n",
    "stdev = 0.8\n",
    "l = round(norm.ppf(.1, loc=mean, scale=stdev),1)\n",
    "u = round(norm.ppf(.9, loc=mean, scale=stdev),1)\n",
    "print(f\"The 80% confidence interval for the mean number of lb. of beef per week among males over 48 is between {l} and {u}.\")"
   ]
  },
  {
   "cell_type": "markdown",
   "metadata": {},
   "source": [
    "14) An economist wants to estimate the mean per capita income (in thousands of dollars) in a major city in California.  Suppose a sample of size 7472 is drawn with x ̅  = 16.6.  Assume ® = 11 .  Construct the 98% confidence interval for the mean per capita income. (Round your answers to 1 decimal place)  Lower Bound: Upper Bound:"
   ]
  },
  {
   "cell_type": "code",
   "execution_count": 174,
   "metadata": {},
   "outputs": [
    {
     "name": "stdout",
     "output_type": "stream",
     "text": [
      "The 98% confidence interval for the mean per capita income is between -9.0 and 42.2.\n"
     ]
    }
   ],
   "source": [
    "n = 7472\n",
    "mean = 16.6\n",
    "stdev = 11\n",
    "l = round(norm.ppf(.01, loc=mean, scale=stdev),1)\n",
    "u = round(norm.ppf(.99, loc=mean, scale=stdev),1)\n",
    "print(f\"The 98% confidence interval for the mean per capita income is between {l} and {u}.\")"
   ]
  },
  {
   "cell_type": "markdown",
   "metadata": {},
   "source": [
    "15) Find the value of t such that 0.05 of the area under the curve is to the left of t.  Assume the degrees of freedom equals 26.\n",
    "\n",
    "Step 1. Choose the picture which best describes the problem.\n",
    "\n",
    "\n",
    "\n",
    "\n",
    "\n",
    "\n",
    "\n",
    "\n",
    "\n",
    "\n",
    "\n",
    "\n",
    "\n",
    "\n",
    "\n",
    "\n",
    "Step 2. Write your answer below. \n",
    "\n"
   ]
  },
  {
   "cell_type": "markdown",
   "metadata": {},
   "source": [
    "It is the upper right picture."
   ]
  },
  {
   "cell_type": "code",
   "execution_count": 175,
   "metadata": {},
   "outputs": [
    {
     "name": "stdout",
     "output_type": "stream",
     "text": [
      "-1.703\n"
     ]
    }
   ],
   "source": [
    "t = round(t.ppf(.05, 27),3)\n",
    "print(t)"
   ]
  },
  {
   "cell_type": "markdown",
   "metadata": {},
   "source": [
    "16) The following measurements ( in picocuries per liter ) were recorded by a set of helium gas detectors installed in a laboratory facility:  \n",
    "\t                                             383.6, 347.1, 371.9, 347.6, 325.8, 337\n",
    "\tUsing these measurements, construct a 90% confidence interval for the mean level of helium gas present in the facility.  Assume the population is normally distributed.  \n",
    "\n",
    "Step 1. Calculate the sample mean for the given sample data. (Round answer to 2 decimal places) \n",
    "\n",
    "\n",
    "Step 2. Calculate the sample standard deviation for the given sample data. (Round answer to 2 decimal places) \n",
    "\n",
    "\n",
    "Step 3. Find the critical value that should be used in constructing the confidence interval. (Round answer to 3 decimal places) \n",
    "\n",
    "\n",
    "Step 4. Construct the 90% confidence interval. (Round answer to 2 decimal places)"
   ]
  },
  {
   "cell_type": "code",
   "execution_count": 182,
   "metadata": {},
   "outputs": [
    {
     "data": {
      "text/plain": [
       "352.17"
      ]
     },
     "execution_count": 182,
     "metadata": {},
     "output_type": "execute_result"
    }
   ],
   "source": [
    "#Step 1 \n",
    "x = (383.6, 347.1, 371.9, 347.6, 325.8, 337)\n",
    "n = len(x)\n",
    "mean = round(np.mean(x),2)\n",
    "mean"
   ]
  },
  {
   "cell_type": "code",
   "execution_count": 183,
   "metadata": {},
   "outputs": [
    {
     "data": {
      "text/plain": [
       "19.79"
      ]
     },
     "execution_count": 183,
     "metadata": {},
     "output_type": "execute_result"
    }
   ],
   "source": [
    "#Step 2\n",
    "stdev = round(np.std(x),2)\n",
    "stdev"
   ]
  },
  {
   "cell_type": "code",
   "execution_count": 186,
   "metadata": {},
   "outputs": [
    {
     "data": {
      "text/plain": [
       "1.943"
      ]
     },
     "execution_count": 186,
     "metadata": {},
     "output_type": "execute_result"
    }
   ],
   "source": [
    "#Step 3\n",
    "tscore = round(t.ppf(1-.05, n),3)\n",
    "tscore"
   ]
  },
  {
   "cell_type": "code",
   "execution_count": 191,
   "metadata": {},
   "outputs": [
    {
     "name": "stdout",
     "output_type": "stream",
     "text": [
      " With 90% confidence the mean is between 313.7 and 390.6.\n"
     ]
    }
   ],
   "source": [
    "#Step 4\n",
    "u = round(mean + tscore*stdev, 1)\n",
    "l = round(mean - tscore*stdev, 1)\n",
    "print(f\" With 90% confidence the mean is between {l} and {u}.\")"
   ]
  },
  {
   "cell_type": "markdown",
   "metadata": {},
   "source": [
    "17) A random sample of 16 fields of spring wheat has a mean yield of 46.4 bushels per acre and standard deviation of 2.45 bushels per acre.  Determine the 80% confidence interval for the true mean yield.  Assume the population is normally distributed.  \n",
    "\n",
    "Step 1. Find the critical value that should be used in constructing the confidence interval. (Round answer to 3 decimal places) \n",
    "\n",
    "\n",
    "Step 2. Construct the 80% confidence interval. (Round answer to 1 decimal place)\n",
    "\n",
    "\n",
    "\n",
    "\n",
    "\n"
   ]
  },
  {
   "cell_type": "code",
   "execution_count": 194,
   "metadata": {},
   "outputs": [
    {
     "name": "stdout",
     "output_type": "stream",
     "text": [
      "1.337\n"
     ]
    }
   ],
   "source": [
    "#Step 1\n",
    "n = 16\n",
    "mean = 46.4\n",
    "stdev = 2.45\n",
    "tscore = round(t.ppf(1-.1, n),3)\n",
    "print(tscore)"
   ]
  },
  {
   "cell_type": "code",
   "execution_count": 195,
   "metadata": {},
   "outputs": [
    {
     "name": "stdout",
     "output_type": "stream",
     "text": [
      " With 90% confidence the mean is between 43.1 and 49.7.\n"
     ]
    }
   ],
   "source": [
    "#Step 2\n",
    "u = round(mean + tscore*stdev, 1)\n",
    "l = round(mean - tscore*stdev, 1)\n",
    "print(f\" With 90% confidence the mean is between {l} and {u}.\")"
   ]
  },
  {
   "cell_type": "markdown",
   "metadata": {},
   "source": [
    "18) A toy manufacturer wants to know how many new toys children buy each year.  She thinks the mean is 8 toys per year.  Assume a previous study found the standard deviation to be 1.9.  How large of a sample would be required in order to estimate the mean number of toys bought per child at the 99% confidence level with an error of at most 0.13 toys? (Round your answer up to the next integer)"
   ]
  },
  {
   "cell_type": "code",
   "execution_count": 202,
   "metadata": {},
   "outputs": [
    {
     "data": {
      "text/plain": [
       "579"
      ]
     },
     "execution_count": 202,
     "metadata": {},
     "output_type": "execute_result"
    }
   ],
   "source": [
    "stdev = 1.9\n",
    "toy = round(norm.ppf(1-.005),3)\n",
    "eom = .13\n",
    "math.ceil((z*stdev/eom) ** 2)"
   ]
  },
  {
   "cell_type": "markdown",
   "metadata": {},
   "source": [
    "19) A research scientist wants to know how many times per hour a certain strand of bacteria reproduces.  He believes that the mean is 12.6.  Assume the variance is known to be 3.61.  How large of a sample would be required in order to estimate the mean number of reproductions per hour at the 95% confidence level with an error of at most 0.19 reproductions? (Round your answer up to the next integer)"
   ]
  },
  {
   "cell_type": "code",
   "execution_count": 204,
   "metadata": {},
   "outputs": [
    {
     "data": {
      "text/plain": [
       "385"
      ]
     },
     "execution_count": 204,
     "metadata": {},
     "output_type": "execute_result"
    }
   ],
   "source": [
    "stdev = math.sqrt(3.61)\n",
    "z = round(norm.ppf(1-.025),3)\n",
    "eom = 0.19\n",
    "math.ceil((z*stdev/eom) ** 2)"
   ]
  },
  {
   "cell_type": "markdown",
   "metadata": {},
   "source": [
    "20) The state education commission wants to estimate the fraction of tenth grade students that have reading skills at or below the eighth grade level.\n",
    "\n",
    "Step 1. Suppose a sample of 2089 tenth graders is drawn. Of the students sampled, 1734 read above the eighth grade level.  Using the data, estimate the proportion of tenth graders reading at or below the eighth grade level. (Write your answer as a fraction or a decimal number rounded to 3 decimal places) \n",
    "\n",
    "\n",
    "Step 2. Suppose a sample of 2089 tenth graders is drawn.  Of the students sampled, 1734 read above the eighth grade level.  Using the data, construct the 98% confidence interval for the population proportion of tenth graders reading at or below the eighth grade level. (Round your answers to 3 decimal places)\n",
    "\n"
   ]
  },
  {
   "cell_type": "code",
   "execution_count": 206,
   "metadata": {},
   "outputs": [
    {
     "data": {
      "text/plain": [
       "0.329"
      ]
     },
     "execution_count": 206,
     "metadata": {},
     "output_type": "execute_result"
    }
   ],
   "source": [
    "#Step 1\n",
    "a = 156\n",
    "b = 474\n",
    "round(a/b,3)"
   ]
  },
  {
   "cell_type": "code",
   "execution_count": 209,
   "metadata": {},
   "outputs": [
    {
     "name": "stdout",
     "output_type": "stream",
     "text": [
      " With 98% confidence the proportion is between 0.811 and 0.849.\n"
     ]
    }
   ],
   "source": [
    "#Step 2\n",
    "a = 1734\n",
    "b = 2089\n",
    "c = a/b\n",
    "d = math.sqrt(a * (b - a)/(b ** 3))\n",
    "t = norm.ppf(1-.01)\n",
    "u = round(c + t * d, 3)\n",
    "l = round(c - t * d, 3)\n",
    "print(f\" With 98% confidence the proportion is between {l} and {u}.\")"
   ]
  },
  {
   "cell_type": "markdown",
   "metadata": {},
   "source": [
    "21) An environmentalist wants to find out the fraction of oil tankers that have spills each month.\n",
    "\n",
    "Step 1. Suppose a sample of 474 tankers is drawn.  Of these ships, 156 had spills.  Using the data, estimate the proportion of oil tankers that had spills. (Write your answer as a fraction or a decimal number rounded to 3 decimal places) \n",
    " \n",
    "\n",
    "Step 2. Suppose a sample of 474 tankers is drawn.  Of these ships, 156 had spills.  Using the data, construct the 95% confidence interval for the population proportion of oil tankers that have spills each month. (Round your answers to 3 decimal places)\n",
    "\n",
    "\n",
    "\n",
    "\n"
   ]
  },
  {
   "cell_type": "code",
   "execution_count": 211,
   "metadata": {},
   "outputs": [
    {
     "data": {
      "text/plain": [
       "0.329"
      ]
     },
     "execution_count": 211,
     "metadata": {},
     "output_type": "execute_result"
    }
   ],
   "source": [
    "#Step 1\n",
    "a = 156\n",
    "b = 474\n",
    "round(a/b,3)"
   ]
  },
  {
   "cell_type": "code",
   "execution_count": 213,
   "metadata": {},
   "outputs": [
    {
     "name": "stdout",
     "output_type": "stream",
     "text": [
      " With 98% confidence the proportion is between 0.287 and 0.371.\n"
     ]
    }
   ],
   "source": [
    "#Step 2\n",
    "a = 156\n",
    "b = 474\n",
    "c = a/b\n",
    "d = math.sqrt(a * (b - a)/(b ** 3))\n",
    "t = norm.ppf(1-.025)\n",
    "u = round(c + t * d, 3)\n",
    "l = round(c - t * d, 3)\n",
    "print(f\" With 98% confidence the proportion is between {l} and {u}.\")"
   ]
  }
 ],
 "metadata": {
  "kernelspec": {
   "display_name": "Python 3",
   "language": "python",
   "name": "python3"
  },
  "language_info": {
   "codemirror_mode": {
    "name": "ipython",
    "version": 3
   },
   "file_extension": ".py",
   "mimetype": "text/x-python",
   "name": "python",
   "nbconvert_exporter": "python",
   "pygments_lexer": "ipython3",
   "version": "3.8.5"
  }
 },
 "nbformat": 4,
 "nbformat_minor": 4
}
