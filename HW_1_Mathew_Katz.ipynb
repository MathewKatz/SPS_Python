{
 "cells": [
  {
   "cell_type": "markdown",
   "metadata": {},
   "source": [
    "Try writing an “even-odd vending machine,” which will take a number as input and do two things: 1. Print whether the number is even or odd. 2. Display the number followed by the next 9 even or odd numbers. If the input is 2, the program should print even and then print 2, 4, 6, 8, 10, 12, 14, 16, 18, 20. Similarly, if the input is 1, the program should print odd and then print 1, 3, 5, 7, 9, 11, 13, 15, 17, 19. 22   Chapter 1Your program should use the is_integer() method to display an error message if the input is a number with significant digits beyond the decimal point."
   ]
  },
  {
   "cell_type": "code",
   "execution_count": 1,
   "metadata": {},
   "outputs": [],
   "source": [
    "def even_odd_v_m(num):\n",
    "    if num % 2 == 0:\n",
    "        print(\"even\")\n",
    "    else:\n",
    "        print(\"odd\")\n",
    "    for i in range(0, 20, 2):\n",
    "        print(num + i) "
   ]
  },
  {
   "cell_type": "code",
   "execution_count": 2,
   "metadata": {},
   "outputs": [
    {
     "name": "stdout",
     "output_type": "stream",
     "text": [
      "even\n",
      "2\n",
      "4\n",
      "6\n",
      "8\n",
      "10\n",
      "12\n",
      "14\n",
      "16\n",
      "18\n",
      "20\n"
     ]
    }
   ],
   "source": [
    "even_odd_v_m(2)"
   ]
  },
  {
   "cell_type": "code",
   "execution_count": 3,
   "metadata": {},
   "outputs": [
    {
     "name": "stdout",
     "output_type": "stream",
     "text": [
      "odd\n",
      "1\n",
      "3\n",
      "5\n",
      "7\n",
      "9\n",
      "11\n",
      "13\n",
      "15\n",
      "17\n",
      "19\n"
     ]
    }
   ],
   "source": [
    "even_odd_v_m(1)"
   ]
  },
  {
   "cell_type": "markdown",
   "metadata": {},
   "source": [
    "-----"
   ]
  },
  {
   "cell_type": "markdown",
   "metadata": {},
   "source": [
    "Your programming challenge is to enhance this program to create a graph of the function. Try using at least 10 values for x instead of the 6 above. Calculate the corresponding y values using the function and then create a graph using these two sets of values. Once you’ve created the graph, spend some time analyzing how the value of y varies with respect to x. Is the variation linear or nonlinear?"
   ]
  },
  {
   "cell_type": "code",
   "execution_count": 73,
   "metadata": {},
   "outputs": [],
   "source": [
    "import matplotlib.pyplot as plt"
   ]
  },
  {
   "cell_type": "code",
   "execution_count": 74,
   "metadata": {},
   "outputs": [],
   "source": [
    "def quad_calc():\n",
    "    x_values = [-12, -10,-8,-6, -4, -2, 0, 2, 4, 6, 8, 10]\n",
    "    y_values = []\n",
    "    for x in x_values:\n",
    "        y_values.append(x**2 + x * 2 + 1)\n",
    "    draw_graph(x_values, y_values)"
   ]
  },
  {
   "cell_type": "code",
   "execution_count": 75,
   "metadata": {},
   "outputs": [],
   "source": [
    "def draw_graph(x, y):\n",
    "    plt.plot(x, y ,marker='*')\n",
    "    plt.xlabel('x')\n",
    "\n",
    "    plt.ylabel('y')\n",
    "    plt.title('Quadratic Equation')"
   ]
  },
  {
   "cell_type": "code",
   "execution_count": 76,
   "metadata": {},
   "outputs": [
    {
     "data": {
      "image/png": "[encoded data removed]",
      "text/plain": [
       "<Figure size 432x288 with 1 Axes>"
      ]
     },
     "metadata": {
      "needs_background": "light"
     },
     "output_type": "display_data"
    }
   ],
   "source": [
    "quad_calc()"
   ]
  },
  {
   "cell_type": "markdown",
   "metadata": {},
   "source": [
    "The variation is nonlinear.\n"
   ]
  },
  {
   "cell_type": "markdown",
   "metadata": {},
   "source": [
    "---"
   ]
  },
  {
   "cell_type": "markdown",
   "metadata": {},
   "source": [
    "Implement a statistics calculator that takes a list of numbers in the file mydata.txt and then calculates and prints their mean, median, mode, variance, and standard deviation using the functions we wrote earlier in this chapter."
   ]
  },
  {
   "cell_type": "code",
   "execution_count": 120,
   "metadata": {},
   "outputs": [],
   "source": [
    "import csv \n",
    "import matplotlib.pyplot as plt"
   ]
  },
  {
   "cell_type": "code",
   "execution_count": 121,
   "metadata": {},
   "outputs": [],
   "source": [
    "numbers = [1, 2, 3, 3, 5]"
   ]
  },
  {
   "cell_type": "code",
   "execution_count": 134,
   "metadata": {},
   "outputs": [],
   "source": [
    "def read_data(filename): \n",
    "    numbers = []    \n",
    "    squared = []    \n",
    "    with open(filename) as f:         \n",
    "        reader = csv.reader(f) \n",
    "        next(reader)\n",
    "        for row in reader: \n",
    "            numbers.append(int(row[0]))\n",
    "            squared.append(int(row[1]))\n",
    "            \n",
    "    return numbers, squared\n",
    "#only knew how to do this from the textbook"
   ]
  },
  {
   "cell_type": "code",
   "execution_count": 135,
   "metadata": {},
   "outputs": [],
   "source": [
    "def meancalc(numbers):\n",
    "    s = sum(numbers)\n",
    "    n = len(numbers)\n",
    "    mean = s / n\n",
    "\n",
    "    return mean"
   ]
  },
  {
   "cell_type": "code",
   "execution_count": 136,
   "metadata": {},
   "outputs": [],
   "source": [
    "def mediancalc(numbers):\n",
    "\n",
    "    n = len(numbers)\n",
    "    numbers.sort()\n",
    "\n",
    "    if n % 2 == 0:\n",
    "        med1 = int(n / 2) - 1\n",
    "        med2 = int((n / 2) + 1) - 1\n",
    "        median = (numbers[med1] + numbers[med2]) / 2\n",
    "    else:\n",
    "        med = int((n + 1) / 2) - 1\n",
    "        median = numbers[med]\n",
    "\n",
    "    return median\n"
   ]
  },
  {
   "cell_type": "code",
   "execution_count": 137,
   "metadata": {},
   "outputs": [],
   "source": [
    "from collections import Counter"
   ]
  },
  {
   "cell_type": "code",
   "execution_count": 138,
   "metadata": {},
   "outputs": [],
   "source": [
    "def modecalc(numbers):\n",
    "    c = Counter(numbers)\n",
    "    numbers_freq = c.most_common()\n",
    "\n",
    "    max_count = numbers_freq[0][1]\n",
    "\n",
    "    mode = []\n",
    "    for num in numbers_freq:\n",
    "        if num[1] == max_count:\n",
    "            mode.append(num[0])\n",
    "\n",
    "    return mode"
   ]
  },
  {
   "cell_type": "code",
   "execution_count": 139,
   "metadata": {},
   "outputs": [],
   "source": [
    "def diffcalc(numbers):\n",
    "    mean = meancalc(numbers)\n",
    "    diff = []\n",
    "    for num in numbers:\n",
    "        diff.append(num - mean)\n",
    "\n",
    "    return diff"
   ]
  },
  {
   "cell_type": "code",
   "execution_count": 140,
   "metadata": {},
   "outputs": [],
   "source": [
    "def variancecalc(numbers):\n",
    "    diff = diffcalc(numbers)\n",
    "    squared_diff = []\n",
    "\n",
    "    for d in diff:\n",
    "        squared_diff.append(d**2)\n",
    "    sum_squared_diff = sum(squared_diff)\n",
    "\n",
    "    variance = sum_squared_diff / len(numbers)\n",
    "\n",
    "    return variance"
   ]
  },
  {
   "cell_type": "code",
   "execution_count": 154,
   "metadata": {},
   "outputs": [
    {
     "name": "stdout",
     "output_type": "stream",
     "text": [
      "Mean: 2.8, Median 3.0, Mode [3.0]\n",
      "Variance: 1.7600000000000002, Standard Deviation: 1.32664991614216\n"
     ]
    }
   ],
   "source": [
    "if __name__ == '__main__':\n",
    "    data = read_data('mydata.txt')\n",
    "    mean = meancalc(data)\n",
    "    median = mediancalc(data)\n",
    "    mode = modecalc(data)\n",
    "    variance = variancecalc(data)\n",
    "    std_ev = variance**0.5\n",
    "    print('Mean: {0}, Median {1}, Mode {2}'.format(mean, median, mode))\n",
    "    print('Variance: {0}, Standard Deviation: {1}'.format(variance, std_ev))"
   ]
  },
  {
   "cell_type": "markdown",
   "metadata": {},
   "source": [
    "---"
   ]
  },
  {
   "cell_type": "markdown",
   "metadata": {},
   "source": [
    "For this challenge, create a function, isolve(), that will take any inequality, solve it, and then return the solution. "
   ]
  },
  {
   "cell_type": "code",
   "execution_count": 159,
   "metadata": {},
   "outputs": [
    {
     "ename": "NameError",
     "evalue": "name 'oo' is not defined",
     "output_type": "error",
     "traceback": [
      "\u001b[0;31m---------------------------------------------------------------------------\u001b[0m",
      "\u001b[0;31mNameError\u001b[0m                                 Traceback (most recent call last)",
      "\u001b[0;32m<ipython-input-159-8d66ec0aef7e>\u001b[0m in \u001b[0;36m<module>\u001b[0;34m\u001b[0m\n\u001b[1;32m      6\u001b[0m \u001b[0mrel\u001b[0m \u001b[0;34m=\u001b[0m \u001b[0mineq_obj\u001b[0m\u001b[0;34m.\u001b[0m\u001b[0mrel_op\u001b[0m\u001b[0;34m\u001b[0m\u001b[0;34m\u001b[0m\u001b[0m\n\u001b[1;32m      7\u001b[0m \u001b[0msolve_poly_inequality\u001b[0m\u001b[0;34m(\u001b[0m\u001b[0mp\u001b[0m\u001b[0;34m,\u001b[0m \u001b[0mrel\u001b[0m\u001b[0;34m)\u001b[0m\u001b[0;34m\u001b[0m\u001b[0;34m\u001b[0m\u001b[0m\n\u001b[0;32m----> 8\u001b[0;31m \u001b[0;34m[\u001b[0m\u001b[0;34m(\u001b[0m\u001b[0;34m-\u001b[0m\u001b[0moo\u001b[0m\u001b[0;34m,\u001b[0m \u001b[0;34m-\u001b[0m\u001b[0;36m2\u001b[0m\u001b[0;34m)\u001b[0m\u001b[0;34m,\u001b[0m \u001b[0;34m(\u001b[0m\u001b[0;36m2\u001b[0m\u001b[0;34m,\u001b[0m \u001b[0moo\u001b[0m\u001b[0;34m)\u001b[0m\u001b[0;34m]\u001b[0m\u001b[0;34m\u001b[0m\u001b[0;34m\u001b[0m\u001b[0m\n\u001b[0m",
      "\u001b[0;31mNameError\u001b[0m: name 'oo' is not defined"
     ]
    }
   ],
   "source": [
    "from sympy import Poly, Symbol, solve_poly_inequality \n",
    "x = Symbol('x') \n",
    "ineq_obj = -x**2 + 4 < 0 \n",
    "lhs = ineq_obj.lhs\n",
    "p = Poly(lhs, x) \n",
    "rel = ineq_obj.rel_op\n",
    "solve_poly_inequality(p, rel) \n",
    "[(-oo, -2), (2, oo)]"
   ]
  },
  {
   "cell_type": "markdown",
   "metadata": {},
   "source": [
    "---"
   ]
  },
  {
   "cell_type": "markdown",
   "metadata": {},
   "source": [
    "Your challenge in this task is to verify this law when rolling a six-sided die for the following number of trials: 100, 1000, 10000, 100000, and 500000"
   ]
  },
  {
   "cell_type": "markdown",
   "metadata": {},
   "source": [
    "Here’s an expected sample run of your complete program:\n",
    "Expected value: 3.5\n",
    "Trials: 100 Trial average 3.72\n",
    "Trials: 1000 Trial average 3.603\n",
    "Trials: 10000 Trial average 3.4842\n",
    "Trials: 10000 Trial average 3.4774\n",
    "Trials: 100000 Trial average 3.50189\n",
    "Trials: 500000 Trial average 3.495468"
   ]
  },
  {
   "cell_type": "code",
   "execution_count": 162,
   "metadata": {},
   "outputs": [],
   "source": [
    "import random as random"
   ]
  },
  {
   "cell_type": "code",
   "execution_count": 169,
   "metadata": {},
   "outputs": [],
   "source": [
    "def dietoss(numoftosses):\n",
    "    sum = 0\n",
    "    for toss in range(numoftosses):\n",
    "        sum += random.randint(1,6)\n",
    "    return sum / numoftosses"
   ]
  },
  {
   "cell_type": "code",
   "execution_count": 172,
   "metadata": {},
   "outputs": [
    {
     "name": "stdout",
     "output_type": "stream",
     "text": [
      "Expected value: 3.5\n",
      "Trials: 100 Trial average 3.53\n",
      "Trials: 1000 Trial average 3.511\n",
      "Trials: 10000 Trial average 3.4929\n",
      "Trials: 10000 Trial average 3.4717\n",
      "Trials: 100000 Trial average 3.49018\n",
      "Trials: 500000 Trial average 3.499956\n"
     ]
    }
   ],
   "source": [
    "if __name__ == '__main__':\n",
    "    trials = [100, 1000, 10000, 10000, 100000, 500000]\n",
    "    print('Expected value: 3.5')\n",
    "    for trial in trials:\n",
    "        avg = dietoss(trial)\n",
    "        print('Trials: {0} Trial average {1}'.format(trial, avg))"
   ]
  },
  {
   "cell_type": "markdown",
   "metadata": {},
   "source": [
    "---"
   ]
  },
  {
   "cell_type": "markdown",
   "metadata": {},
   "source": [
    "Your challenge is to implement a generic program using the gradient descent algorithm to find the minimum value of a single-variable function specified as input by the user. The program should also create a graph of the function and show all the intermediate values it found before finding the minimum."
   ]
  },
  {
   "cell_type": "code",
   "execution_count": null,
   "metadata": {},
   "outputs": [],
   "source": []
  }
 ],
 "metadata": {
  "kernelspec": {
   "display_name": "Python 3",
   "language": "python",
   "name": "python3"
  },
  "language_info": {
   "codemirror_mode": {
    "name": "ipython",
    "version": 3
   },
   "file_extension": ".py",
   "mimetype": "text/x-python",
   "name": "python",
   "nbconvert_exporter": "python",
   "pygments_lexer": "ipython3",
   "version": "3.8.5"
  }
 },
 "nbformat": 4,
 "nbformat_minor": 4
}
