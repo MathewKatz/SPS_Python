{
 "cells": [
  {
   "cell_type": "code",
   "execution_count": 1,
   "metadata": {},
   "outputs": [
    {
     "name": "stdout",
     "output_type": "stream",
     "text": [
      "Bank Name :  Chase Bank\n",
      "First Name :  Albert\n",
      "Last Name :  Pujols\n",
      "Account Balance :  980 $\n"
     ]
    }
   ],
   "source": [
    "class BankAccount:\n",
    "    def __init__(self, bankname, firstname, lastname, balance=0):\n",
    "        self.bankname = bankname\n",
    "        self.firstname = firstname\n",
    "        self.lastname = lastname\n",
    "        self.balance = balance\n",
    "    def deposit(self, d):\n",
    "        self.balance = self.balance + d\n",
    "    def withdrawal(self , w):\n",
    "        if(self.balance < w):\n",
    "            print(\"Insufficient balance!\")\n",
    "        else:\n",
    "            self.balance = self.balance - w\n",
    "    def display(self):\n",
    "        print(\"Bank Name : \" , self.bankname)\n",
    "        print(\"First Name : \" , self.firstname)\n",
    "        print(\"Last Name : \" , self.lastname)\n",
    "        print(\"Account Balance : \" , self.balance ,\"$\")\n",
    "    \n",
    "\n",
    "# Testing the code :\n",
    "ba = BankAccount('Chase Bank', \"Albert\", \"Pujols\")\n",
    "ba.deposit(1000)\n",
    "ba.withdrawal(20)\n",
    "ba.display()"
   ]
  },
  {
   "cell_type": "code",
   "execution_count": 5,
   "metadata": {},
   "outputs": [
    {
     "name": "stdout",
     "output_type": "stream",
     "text": [
      "48\n"
     ]
    }
   ],
   "source": [
    "class Rectangle():\n",
    "    def __init__(self, l, w):\n",
    "        self.length = l\n",
    "        self.width  = w\n",
    "\n",
    "    def rectangle_area(self):\n",
    "        return (self.length)*(self.width)\n",
    "    \n",
    "brick_one = Rectangle(4, 12)\n",
    "print(brick_one.rectangle_area())"
   ]
  },
  {
   "cell_type": "code",
   "execution_count": null,
   "metadata": {},
   "outputs": [],
   "source": []
  }
 ],
 "metadata": {
  "kernelspec": {
   "display_name": "Python 3",
   "language": "python",
   "name": "python3"
  },
  "language_info": {
   "codemirror_mode": {
    "name": "ipython",
    "version": 3
   },
   "file_extension": ".py",
   "mimetype": "text/x-python",
   "name": "python",
   "nbconvert_exporter": "python",
   "pygments_lexer": "ipython3",
   "version": "3.8.5"
  }
 },
 "nbformat": 4,
 "nbformat_minor": 4
}
