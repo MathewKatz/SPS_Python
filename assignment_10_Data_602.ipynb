{
 "cells": [
  {
   "cell_type": "markdown",
   "metadata": {
    "id": "xqXbEBZtB8-u"
   },
   "source": [
    "# **Assignment 10**"
   ]
  },
  {
   "cell_type": "code",
   "execution_count": 22,
   "metadata": {
    "id": "Iqswq2_ak3e-"
   },
   "outputs": [],
   "source": [
    "# core\n",
    "import matplotlib.pyplot as plt\n",
    "import numpy as np\n",
    "import pandas as pd\n",
    "\n",
    "# ml\n",
    "from sklearn import datasets as ds\n",
    "from sklearn import linear_model as lm\n",
    "from sklearn.neighbors import KNeighborsClassifier as KNN\n",
    "from sklearn.model_selection import train_test_split as tts\n",
    "from sklearn.metrics import accuracy_score\n",
    "\n",
    "\n",
    "#plotly or other graphing library"
   ]
  },
  {
   "cell_type": "code",
   "execution_count": 4,
   "metadata": {
    "id": "92pRcki-k3kH"
   },
   "outputs": [],
   "source": [
    "# Load datasets here once and assign to variables iris and boston\n",
    "\n",
    "iris = ds.load_iris()\n",
    "\n",
    "df = pd.DataFrame(data= np.c_[iris['data'], iris['target']],\n",
    "                     columns= iris['feature_names'] + ['target'])"
   ]
  },
  {
   "cell_type": "markdown",
   "metadata": {
    "id": "lA9exQg2lFEn"
   },
   "source": [
    "**Q1** \n",
    "\n",
    "**Data set: Iris**\n",
    "\n",
    "* Return the first 5 rows of the data including the feature names as column headings in a DataFrame and a\n",
    "separate Python list containing target names"
   ]
  },
  {
   "cell_type": "code",
   "execution_count": 7,
   "metadata": {
    "colab": {
     "base_uri": "https://localhost:8080/",
     "height": 206
    },
    "id": "1kcEFauAlAxY",
    "outputId": "57e4d1c3-44c5-4486-8715-b674785d44c8"
   },
   "outputs": [
    {
     "data": {
      "text/html": [
       "<div>\n",
       "<style scoped>\n",
       "    .dataframe tbody tr th:only-of-type {\n",
       "        vertical-align: middle;\n",
       "    }\n",
       "\n",
       "    .dataframe tbody tr th {\n",
       "        vertical-align: top;\n",
       "    }\n",
       "\n",
       "    .dataframe thead th {\n",
       "        text-align: right;\n",
       "    }\n",
       "</style>\n",
       "<table border=\"1\" class=\"dataframe\">\n",
       "  <thead>\n",
       "    <tr style=\"text-align: right;\">\n",
       "      <th></th>\n",
       "      <th>sepal length (cm)</th>\n",
       "      <th>sepal width (cm)</th>\n",
       "      <th>petal length (cm)</th>\n",
       "      <th>petal width (cm)</th>\n",
       "      <th>target</th>\n",
       "    </tr>\n",
       "  </thead>\n",
       "  <tbody>\n",
       "    <tr>\n",
       "      <th>0</th>\n",
       "      <td>5.1</td>\n",
       "      <td>3.5</td>\n",
       "      <td>1.4</td>\n",
       "      <td>0.2</td>\n",
       "      <td>0.0</td>\n",
       "    </tr>\n",
       "    <tr>\n",
       "      <th>1</th>\n",
       "      <td>4.9</td>\n",
       "      <td>3.0</td>\n",
       "      <td>1.4</td>\n",
       "      <td>0.2</td>\n",
       "      <td>0.0</td>\n",
       "    </tr>\n",
       "    <tr>\n",
       "      <th>2</th>\n",
       "      <td>4.7</td>\n",
       "      <td>3.2</td>\n",
       "      <td>1.3</td>\n",
       "      <td>0.2</td>\n",
       "      <td>0.0</td>\n",
       "    </tr>\n",
       "    <tr>\n",
       "      <th>3</th>\n",
       "      <td>4.6</td>\n",
       "      <td>3.1</td>\n",
       "      <td>1.5</td>\n",
       "      <td>0.2</td>\n",
       "      <td>0.0</td>\n",
       "    </tr>\n",
       "    <tr>\n",
       "      <th>4</th>\n",
       "      <td>5.0</td>\n",
       "      <td>3.6</td>\n",
       "      <td>1.4</td>\n",
       "      <td>0.2</td>\n",
       "      <td>0.0</td>\n",
       "    </tr>\n",
       "  </tbody>\n",
       "</table>\n",
       "</div>"
      ],
      "text/plain": [
       "   sepal length (cm)  sepal width (cm)  petal length (cm)  petal width (cm)  \\\n",
       "0                5.1               3.5                1.4               0.2   \n",
       "1                4.9               3.0                1.4               0.2   \n",
       "2                4.7               3.2                1.3               0.2   \n",
       "3                4.6               3.1                1.5               0.2   \n",
       "4                5.0               3.6                1.4               0.2   \n",
       "\n",
       "   target  \n",
       "0     0.0  \n",
       "1     0.0  \n",
       "2     0.0  \n",
       "3     0.0  \n",
       "4     0.0  "
      ]
     },
     "execution_count": 7,
     "metadata": {},
     "output_type": "execute_result"
    }
   ],
   "source": [
    "df.head(5)"
   ]
  },
  {
   "cell_type": "code",
   "execution_count": 13,
   "metadata": {},
   "outputs": [],
   "source": [
    "target_list = df[\"target\"].tolist()"
   ]
  },
  {
   "cell_type": "markdown",
   "metadata": {
    "id": "o2GEIhqzlT-i"
   },
   "source": [
    "**Q2**\n",
    "\n",
    "**Data set: Iris**\n",
    "\n",
    "* Fit the Iris dataset into a kNN model with neighbors=5 and predict the category of observations passed in \n",
    "argument new_observations. Return back the target names of each prediction (and not their encoded values,\n",
    " i.e. return setosa instead of 0)."
   ]
  },
  {
   "cell_type": "code",
   "execution_count": 14,
   "metadata": {},
   "outputs": [],
   "source": [
    "x= df.iloc[:, :-1]\n",
    "y= df.iloc[:, -1]"
   ]
  },
  {
   "cell_type": "code",
   "execution_count": 17,
   "metadata": {},
   "outputs": [],
   "source": [
    "x_train, x_test, y_train, y_test= tts(x, y,test_size= 0.2,shuffle= True,random_state= 42)\n",
    "x_train= np.asarray(x_train)\n",
    "y_train= np.asarray(y_train)\n",
    "\n",
    "x_test= np.asarray(x_test)\n",
    "y_test= np.asarray(y_test)"
   ]
  },
  {
   "cell_type": "code",
   "execution_count": 18,
   "metadata": {},
   "outputs": [
    {
     "name": "stdout",
     "output_type": "stream",
     "text": [
      "training set size: 120 samples \n",
      "test set size: 30 samples\n"
     ]
    }
   ],
   "source": [
    "print(f'training set size: {x_train.shape[0]} samples \\ntest set size: {x_test.shape[0]} samples')"
   ]
  },
  {
   "cell_type": "code",
   "execution_count": 20,
   "metadata": {},
   "outputs": [
    {
     "name": "stdout",
     "output_type": "stream",
     "text": [
      "[1. 0. 2. 1. 1. 0. 1. 2. 1. 1. 2. 0. 0. 0. 0. 1. 2. 1. 1. 2. 0. 2. 0. 2.\n",
      " 2. 2. 2. 2. 0. 0.]\n"
     ]
    }
   ],
   "source": [
    "knn=KNN(5)\n",
    "knn.fit(x_train, y_train)\n",
    "y_pred_sklearn= knn.predict(x_test)\n",
    "print(y_pred_sklearn)"
   ]
  },
  {
   "cell_type": "code",
   "execution_count": 23,
   "metadata": {},
   "outputs": [
    {
     "name": "stdout",
     "output_type": "stream",
     "text": [
      "The accuracy is 1.0\n"
     ]
    }
   ],
   "source": [
    "print(f'The accuracy is {accuracy_score(y_test, y_pred_sklearn)}')"
   ]
  },
  {
   "cell_type": "markdown",
   "metadata": {
    "id": "aVMa16PflnBv"
   },
   "source": [
    "**Q3**\n",
    "\n",
    "**Data set: Iris**\n",
    "\n",
    "* Split the Iris dataset into a train / test model with the split ratio between the two established by the function parameter split.\n",
    "\n",
    "* Fit KNN with the training data with number of neighbors equal to the function parameter neighbors\n",
    "\n",
    "* Generate and return back an accuracy score using the test data that was split out"
   ]
  },
  {
   "cell_type": "code",
   "execution_count": 37,
   "metadata": {
    "colab": {
     "base_uri": "https://localhost:8080/"
    },
    "id": "5VIRae0xlA20",
    "outputId": "9c8a05f5-f5f3-455f-851b-2cde2aaeefc6"
   },
   "outputs": [
    {
     "name": "stdout",
     "output_type": "stream",
     "text": [
      "Accuracy of our model is equal 100.0 %.\n"
     ]
    }
   ],
   "source": [
    "from sklearn.metrics import accuracy_score\n",
    "accuracy = accuracy_score(y_test, y_pred)*100\n",
    "print('Accuracy of our model is equal ' + str(round(accuracy, 2)) + ' %.')"
   ]
  },
  {
   "cell_type": "markdown",
   "metadata": {
    "id": "GupwxBDVl8n2"
   },
   "source": [
    "**Q4**\n",
    "\n",
    "**Data set: Iris**\n",
    "\n",
    "* Generate an overfitting / underfitting curve of kNN each of the testing and training accuracy performance scores series for a range of neighbor (k) values from 1 to 30 and plot the curves (number of neighbors is x-axis, performance score is y-axis on the chart)."
   ]
  },
  {
   "cell_type": "code",
   "execution_count": null,
   "metadata": {
    "id": "M-6Ig8_QlA6J"
   },
   "outputs": [],
   "source": []
  },
  {
   "cell_type": "markdown",
   "metadata": {
    "id": "NQ8WM1UJl8Iy"
   },
   "source": [
    "**Q5** \n",
    "\n",
    "**Data set: Boston**\n",
    "\n",
    "\n",
    "* Load sklearn's Boston data into a DataFrame (only the data and feature_name as column names)\n",
    "\n",
    "* Load sklearn's Boston target values into a separate DataFrame\n",
    "\n",
    "* Return back the average of AGE, average of the target (median value of homes or MEDV), and the target as NumPy values "
   ]
  },
  {
   "cell_type": "code",
   "execution_count": null,
   "metadata": {
    "id": "-Qi-PJvxlA8O"
   },
   "outputs": [],
   "source": []
  },
  {
   "cell_type": "markdown",
   "metadata": {
    "id": "-z7LddLfmNyP"
   },
   "source": [
    "**Q6** \n",
    "\n",
    "**Data set: Boston**\n",
    "\n",
    "* In the Boston dataset, the feature PTRATIO refers to pupil teacher ratio.\n",
    "\n",
    "* Using a matplotlib scatter plot, plot MEDV median value of homes as y-axis and PTRATIO as x-axis\n",
    "\n",
    "* Return back PTRATIO as a NumPy array"
   ]
  },
  {
   "cell_type": "code",
   "execution_count": null,
   "metadata": {
    "id": "CDFVf0vxmSMo"
   },
   "outputs": [],
   "source": []
  },
  {
   "cell_type": "markdown",
   "metadata": {
    "id": "vmsmxjBcmZZ1"
   },
   "source": [
    "**Q7**\n",
    "\n",
    "**Data set: Boston**\n",
    "\n",
    "* Create a regression model for MEDV / PTRATIO and display a chart showing the regression line using matplotlib\n",
    "\n",
    "\n",
    "* Use np.linspace() to generate prediction X values from min to max PTRATIO\n",
    "\n",
    "* Return back the regression prediction space and regression predicted values\n",
    "\n",
    "* Make sure to labels axes appropriately"
   ]
  },
  {
   "cell_type": "code",
   "execution_count": null,
   "metadata": {
    "id": "02DsBMnDmmXC"
   },
   "outputs": [],
   "source": []
  }
 ],
 "metadata": {
  "colab": {
   "provenance": []
  },
  "kernelspec": {
   "display_name": "Python 3",
   "language": "python",
   "name": "python3"
  },
  "language_info": {
   "codemirror_mode": {
    "name": "ipython",
    "version": 3
   },
   "file_extension": ".py",
   "mimetype": "text/x-python",
   "name": "python",
   "nbconvert_exporter": "python",
   "pygments_lexer": "ipython3",
   "version": "3.8.5"
  }
 },
 "nbformat": 4,
 "nbformat_minor": 4
}
